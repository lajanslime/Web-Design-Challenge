{
 "cells": [
  {
   "cell_type": "code",
   "execution_count": 1,
   "id": "51a37e3a-f75f-4adf-b232-64bd8a0a5743",
   "metadata": {},
   "outputs": [],
   "source": [
    "import pandas as pd \n"
   ]
  },
  {
   "cell_type": "code",
   "execution_count": 2,
   "id": "b5b7a729-3207-4c71-a30a-976f3e4b0ef8",
   "metadata": {},
   "outputs": [],
   "source": [
    "#Read the CSV \n",
    "\n",
    "csv = pd.read_csv('Resources/cities.csv')"
   ]
  },
  {
   "cell_type": "code",
   "execution_count": 4,
   "id": "4d5b8b71-62a4-425e-95d5-d3557f1056a9",
   "metadata": {},
   "outputs": [],
   "source": [
    "#Save dataframe to HTML\n",
    "csv.to_html('data.html')"
   ]
  },
  {
   "cell_type": "code",
   "execution_count": null,
   "id": "3ae9dacb-1b81-430c-af6e-e5f554ca1a92",
   "metadata": {},
   "outputs": [],
   "source": []
  }
 ],
 "metadata": {
  "kernelspec": {
   "display_name": "Python 3",
   "language": "python",
   "name": "python3"
  },
  "language_info": {
   "codemirror_mode": {
    "name": "ipython",
    "version": 3
   },
   "file_extension": ".py",
   "mimetype": "text/x-python",
   "name": "python",
   "nbconvert_exporter": "python",
   "pygments_lexer": "ipython3",
   "version": "3.8.8"
  }
 },
 "nbformat": 4,
 "nbformat_minor": 5
}
